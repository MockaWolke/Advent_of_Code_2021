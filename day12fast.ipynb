{
 "cells": [
  {
   "cell_type": "code",
   "execution_count": 8,
   "id": "a2191033",
   "metadata": {},
   "outputs": [],
   "source": [
    "import aocd"
   ]
  },
  {
   "cell_type": "code",
   "execution_count": 9,
   "id": "bc55cecb",
   "metadata": {},
   "outputs": [],
   "source": [
    "d = [i.split(\"-\") for i in  aocd.get_data(day=12,year=2021).splitlines() ]"
   ]
  },
  {
   "cell_type": "code",
   "execution_count": 10,
   "id": "34e3d8be",
   "metadata": {},
   "outputs": [],
   "source": [
    "paths = {q:[] for b in d for q in b   }\n",
    "for a,b in d:\n",
    "    paths[a].append(b)\n",
    "    paths[b].append(a)\n",
    "start ={q:0 for b in d for q in b if q.islower()}\n",
    "start[\"stop\"]=0"
   ]
  },
  {
   "cell_type": "code",
   "execution_count": 12,
   "id": "1691c940",
   "metadata": {},
   "outputs": [
    {
     "name": "stdout",
     "output_type": "stream",
     "text": [
      "3563\n"
     ]
    }
   ],
   "source": [
    "#part 1\n",
    "count = 0\n",
    "def recur1(state,n):\n",
    "    global count\n",
    "    n_state = state.copy()\n",
    "    if n==\"end\":\n",
    "        count+=1\n",
    "        return\n",
    "    if n.islower():\n",
    "        n_state[n]+=1\n",
    "\n",
    "    for b in paths[n]:\n",
    "        if b!=\"start\":\n",
    "            if b.isupper() or n_state[b]==0:\n",
    "                recur1(n_state,b)\n",
    "recur1(start,\"start\")\n",
    "print(count)"
   ]
  },
  {
   "cell_type": "code",
   "execution_count": 13,
   "id": "fc259fd0",
   "metadata": {},
   "outputs": [],
   "source": [
    "count = 0\n",
    "def recur2(state,n):\n",
    "    global count\n",
    "    n_state = state.copy()\n",
    "    if n==\"end\":\n",
    "        count+=1\n",
    "        return\n",
    "    if n.islower():\n",
    "        n_state[n]+=1\n",
    "        n_state[\"stop\"]= max(n_state[n]==2,n_state[\"stop\"])\n",
    "    \n",
    "    for b in paths[n]:\n",
    "        if b!=\"start\":\n",
    "            if b.isupper() or n_state[b]==0 or (n_state[b]==1 and n_state[\"stop\"]==0):\n",
    "                recur2(n_state,b)\n",
    "\n",
    "\n",
    "recur2(start,\"start\")"
   ]
  },
  {
   "cell_type": "code",
   "execution_count": 14,
   "id": "b82cc791",
   "metadata": {},
   "outputs": [
    {
     "data": {
      "text/plain": [
       "105453"
      ]
     },
     "execution_count": 14,
     "metadata": {},
     "output_type": "execute_result"
    }
   ],
   "source": [
    "print(count)"
   ]
  },
  {
   "cell_type": "code",
   "execution_count": null,
   "id": "eb7bf0ee",
   "metadata": {},
   "outputs": [],
   "source": []
  }
 ],
 "metadata": {
  "kernelspec": {
   "display_name": "CV",
   "language": "python",
   "name": "cv"
  },
  "language_info": {
   "codemirror_mode": {
    "name": "ipython",
    "version": 3
   },
   "file_extension": ".py",
   "mimetype": "text/x-python",
   "name": "python",
   "nbconvert_exporter": "python",
   "pygments_lexer": "ipython3",
   "version": "3.9.7"
  }
 },
 "nbformat": 4,
 "nbformat_minor": 5
}
