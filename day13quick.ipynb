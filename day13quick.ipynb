{
 "cells": [
  {
   "cell_type": "code",
   "execution_count": 1,
   "id": "162bc4d8",
   "metadata": {},
   "outputs": [],
   "source": [
    "import aocd\n",
    "import numpy as np\n",
    "import matplotlib.pyplot as plt\n",
    "field, folds =  aocd.get_data(day=13,year=2021).split(\"\\n\\n\")\n",
    "field = np.array([[int(b) for b in c.split(\",\")]  for  c in field.splitlines()])\n",
    "board = np.zeros((field[:,1].max()+1,field[:,0].max()+1))\n",
    "\n",
    "for x,y in field:\n",
    "    board[y,x]=1\n",
    "folds = [b[11:].split(\"=\") for b in folds.splitlines()]"
   ]
  },
  {
   "cell_type": "code",
   "execution_count": 2,
   "id": "e20a9101",
   "metadata": {},
   "outputs": [],
   "source": [
    "def fold(command,ar):\n",
    "    axis, l = command\n",
    "    l = int(l)\n",
    "    if axis =='x':\n",
    "        return np.logical_or(ar[:,:l],ar[:,l+1:][:,::-1])\n",
    "    else:\n",
    "        return np.logical_or(ar[:l],ar[l+1:][::-1])"
   ]
  },
  {
   "cell_type": "code",
   "execution_count": 3,
   "id": "d8f86e3e",
   "metadata": {},
   "outputs": [
    {
     "name": "stdout",
     "output_type": "stream",
     "text": [
      "Part 1 689\n"
     ]
    }
   ],
   "source": [
    "for i,f in enumerate(folds):\n",
    "    board = fold(f,board)\n",
    "    if i ==0:\n",
    "        print(\"Part 1\", board.sum())"
   ]
  },
  {
   "cell_type": "code",
   "execution_count": 4,
   "id": "e8a67b8f",
   "metadata": {},
   "outputs": [
    {
     "data": {
      "image/png": "[encoded data removed]",
      "text/plain": [
       "<Figure size 432x288 with 1 Axes>"
      ]
     },
     "metadata": {
      "needs_background": "light"
     },
     "output_type": "display_data"
    }
   ],
   "source": [
    "plt.imshow(board)\n",
    "plt.show()"
   ]
  }
 ],
 "metadata": {
  "kernelspec": {
   "display_name": "CV",
   "language": "python",
   "name": "cv"
  },
  "language_info": {
   "codemirror_mode": {
    "name": "ipython",
    "version": 3
   },
   "file_extension": ".py",
   "mimetype": "text/x-python",
   "name": "python",
   "nbconvert_exporter": "python",
   "pygments_lexer": "ipython3",
   "version": "3.9.7"
  }
 },
 "nbformat": 4,
 "nbformat_minor": 5
}
